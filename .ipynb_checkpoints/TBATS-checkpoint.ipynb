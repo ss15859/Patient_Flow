{
 "cells": [
  {
   "cell_type": "code",
   "execution_count": 7,
   "id": "viral-probability",
   "metadata": {},
   "outputs": [],
   "source": [
    "import pandas as pd\n",
    "import numpy as np\n",
    "import matplotlib.pyplot as plt\n",
    "import time\n",
    "%matplotlib inline"
   ]
  },
  {
   "cell_type": "code",
   "execution_count": 8,
   "id": "connected-attack",
   "metadata": {},
   "outputs": [
    {
     "data": {
      "text/html": [
       "<div>\n",
       "<style scoped>\n",
       "    .dataframe tbody tr th:only-of-type {\n",
       "        vertical-align: middle;\n",
       "    }\n",
       "\n",
       "    .dataframe tbody tr th {\n",
       "        vertical-align: top;\n",
       "    }\n",
       "\n",
       "    .dataframe thead th {\n",
       "        text-align: right;\n",
       "    }\n",
       "</style>\n",
       "<table border=\"1\" class=\"dataframe\">\n",
       "  <thead>\n",
       "    <tr style=\"text-align: right;\">\n",
       "      <th></th>\n",
       "      <th>hour</th>\n",
       "      <th>year</th>\n",
       "      <th>month</th>\n",
       "      <th>day</th>\n",
       "      <th>HOD</th>\n",
       "      <th>DOW</th>\n",
       "      <th>DOY</th>\n",
       "      <th>WOY</th>\n",
       "      <th>QOD</th>\n",
       "      <th>HOW</th>\n",
       "      <th>Number of Patients</th>\n",
       "      <th>Maximum temperature (°C)</th>\n",
       "      <th>Minimum temperature (°C)</th>\n",
       "    </tr>\n",
       "  </thead>\n",
       "  <tbody>\n",
       "    <tr>\n",
       "      <th>0</th>\n",
       "      <td>2004-01-01 00:00:00</td>\n",
       "      <td>2004</td>\n",
       "      <td>1</td>\n",
       "      <td>1</td>\n",
       "      <td>0</td>\n",
       "      <td>Thursday</td>\n",
       "      <td>1</td>\n",
       "      <td>1</td>\n",
       "      <td>0.0</td>\n",
       "      <td>73</td>\n",
       "      <td>5</td>\n",
       "      <td>11.4</td>\n",
       "      <td>11.3</td>\n",
       "    </tr>\n",
       "    <tr>\n",
       "      <th>1</th>\n",
       "      <td>2004-01-01 01:00:00</td>\n",
       "      <td>2004</td>\n",
       "      <td>1</td>\n",
       "      <td>1</td>\n",
       "      <td>1</td>\n",
       "      <td>Thursday</td>\n",
       "      <td>1</td>\n",
       "      <td>1</td>\n",
       "      <td>0.0</td>\n",
       "      <td>74</td>\n",
       "      <td>11</td>\n",
       "      <td>11.4</td>\n",
       "      <td>11.4</td>\n",
       "    </tr>\n",
       "    <tr>\n",
       "      <th>2</th>\n",
       "      <td>2004-01-01 02:00:00</td>\n",
       "      <td>2004</td>\n",
       "      <td>1</td>\n",
       "      <td>1</td>\n",
       "      <td>2</td>\n",
       "      <td>Thursday</td>\n",
       "      <td>1</td>\n",
       "      <td>1</td>\n",
       "      <td>0.0</td>\n",
       "      <td>75</td>\n",
       "      <td>8</td>\n",
       "      <td>10.9</td>\n",
       "      <td>10.8</td>\n",
       "    </tr>\n",
       "    <tr>\n",
       "      <th>3</th>\n",
       "      <td>2004-01-01 03:00:00</td>\n",
       "      <td>2004</td>\n",
       "      <td>1</td>\n",
       "      <td>1</td>\n",
       "      <td>3</td>\n",
       "      <td>Thursday</td>\n",
       "      <td>1</td>\n",
       "      <td>1</td>\n",
       "      <td>0.0</td>\n",
       "      <td>76</td>\n",
       "      <td>4</td>\n",
       "      <td>10.7</td>\n",
       "      <td>10.6</td>\n",
       "    </tr>\n",
       "    <tr>\n",
       "      <th>4</th>\n",
       "      <td>2004-01-01 04:00:00</td>\n",
       "      <td>2004</td>\n",
       "      <td>1</td>\n",
       "      <td>1</td>\n",
       "      <td>4</td>\n",
       "      <td>Thursday</td>\n",
       "      <td>1</td>\n",
       "      <td>1</td>\n",
       "      <td>0.0</td>\n",
       "      <td>77</td>\n",
       "      <td>5</td>\n",
       "      <td>10.6</td>\n",
       "      <td>10.5</td>\n",
       "    </tr>\n",
       "    <tr>\n",
       "      <th>...</th>\n",
       "      <td>...</td>\n",
       "      <td>...</td>\n",
       "      <td>...</td>\n",
       "      <td>...</td>\n",
       "      <td>...</td>\n",
       "      <td>...</td>\n",
       "      <td>...</td>\n",
       "      <td>...</td>\n",
       "      <td>...</td>\n",
       "      <td>...</td>\n",
       "      <td>...</td>\n",
       "      <td>...</td>\n",
       "      <td>...</td>\n",
       "    </tr>\n",
       "    <tr>\n",
       "      <th>33596</th>\n",
       "      <td>2007-10-31 20:00:00</td>\n",
       "      <td>2007</td>\n",
       "      <td>10</td>\n",
       "      <td>31</td>\n",
       "      <td>20</td>\n",
       "      <td>Wednesday</td>\n",
       "      <td>304</td>\n",
       "      <td>44</td>\n",
       "      <td>3.0</td>\n",
       "      <td>69</td>\n",
       "      <td>15</td>\n",
       "      <td>22.8</td>\n",
       "      <td>22.8</td>\n",
       "    </tr>\n",
       "    <tr>\n",
       "      <th>33597</th>\n",
       "      <td>2007-10-31 21:00:00</td>\n",
       "      <td>2007</td>\n",
       "      <td>10</td>\n",
       "      <td>31</td>\n",
       "      <td>21</td>\n",
       "      <td>Wednesday</td>\n",
       "      <td>304</td>\n",
       "      <td>44</td>\n",
       "      <td>3.0</td>\n",
       "      <td>70</td>\n",
       "      <td>23</td>\n",
       "      <td>22.4</td>\n",
       "      <td>22.3</td>\n",
       "    </tr>\n",
       "    <tr>\n",
       "      <th>33598</th>\n",
       "      <td>2007-10-31 22:00:00</td>\n",
       "      <td>2007</td>\n",
       "      <td>10</td>\n",
       "      <td>31</td>\n",
       "      <td>22</td>\n",
       "      <td>Wednesday</td>\n",
       "      <td>304</td>\n",
       "      <td>44</td>\n",
       "      <td>3.0</td>\n",
       "      <td>71</td>\n",
       "      <td>19</td>\n",
       "      <td>22.3</td>\n",
       "      <td>22.2</td>\n",
       "    </tr>\n",
       "    <tr>\n",
       "      <th>33599</th>\n",
       "      <td>2007-10-31 23:00:00</td>\n",
       "      <td>2007</td>\n",
       "      <td>10</td>\n",
       "      <td>31</td>\n",
       "      <td>23</td>\n",
       "      <td>Wednesday</td>\n",
       "      <td>304</td>\n",
       "      <td>44</td>\n",
       "      <td>3.0</td>\n",
       "      <td>72</td>\n",
       "      <td>16</td>\n",
       "      <td>22.6</td>\n",
       "      <td>22.5</td>\n",
       "    </tr>\n",
       "    <tr>\n",
       "      <th>33600</th>\n",
       "      <td>2007-11-01 00:00:00</td>\n",
       "      <td>2007</td>\n",
       "      <td>11</td>\n",
       "      <td>1</td>\n",
       "      <td>0</td>\n",
       "      <td>Thursday</td>\n",
       "      <td>305</td>\n",
       "      <td>44</td>\n",
       "      <td>0.0</td>\n",
       "      <td>73</td>\n",
       "      <td>8</td>\n",
       "      <td>12.1</td>\n",
       "      <td>12</td>\n",
       "    </tr>\n",
       "  </tbody>\n",
       "</table>\n",
       "<p>33601 rows × 13 columns</p>\n",
       "</div>"
      ],
      "text/plain": [
       "                      hour  year  month  day  HOD        DOW  DOY  WOY  QOD  \\\n",
       "0      2004-01-01 00:00:00  2004      1    1    0   Thursday    1    1  0.0   \n",
       "1      2004-01-01 01:00:00  2004      1    1    1   Thursday    1    1  0.0   \n",
       "2      2004-01-01 02:00:00  2004      1    1    2   Thursday    1    1  0.0   \n",
       "3      2004-01-01 03:00:00  2004      1    1    3   Thursday    1    1  0.0   \n",
       "4      2004-01-01 04:00:00  2004      1    1    4   Thursday    1    1  0.0   \n",
       "...                    ...   ...    ...  ...  ...        ...  ...  ...  ...   \n",
       "33596  2007-10-31 20:00:00  2007     10   31   20  Wednesday  304   44  3.0   \n",
       "33597  2007-10-31 21:00:00  2007     10   31   21  Wednesday  304   44  3.0   \n",
       "33598  2007-10-31 22:00:00  2007     10   31   22  Wednesday  304   44  3.0   \n",
       "33599  2007-10-31 23:00:00  2007     10   31   23  Wednesday  304   44  3.0   \n",
       "33600  2007-11-01 00:00:00  2007     11    1    0   Thursday  305   44  0.0   \n",
       "\n",
       "       HOW  Number of Patients  Maximum temperature (°C)  \\\n",
       "0       73                   5                      11.4   \n",
       "1       74                  11                      11.4   \n",
       "2       75                   8                      10.9   \n",
       "3       76                   4                      10.7   \n",
       "4       77                   5                      10.6   \n",
       "...    ...                 ...                       ...   \n",
       "33596   69                  15                      22.8   \n",
       "33597   70                  23                      22.4   \n",
       "33598   71                  19                      22.3   \n",
       "33599   72                  16                      22.6   \n",
       "33600   73                   8                      12.1   \n",
       "\n",
       "      Minimum temperature (°C)  \n",
       "0                         11.3  \n",
       "1                         11.4  \n",
       "2                         10.8  \n",
       "3                         10.6  \n",
       "4                         10.5  \n",
       "...                        ...  \n",
       "33596                     22.8  \n",
       "33597                     22.3  \n",
       "33598                     22.2  \n",
       "33599                     22.5  \n",
       "33600                       12  \n",
       "\n",
       "[33601 rows x 13 columns]"
      ]
     },
     "execution_count": 8,
     "metadata": {},
     "output_type": "execute_result"
    }
   ],
   "source": [
    "df = pd.read_csv('hourly.csv',index_col=0)\n",
    "df"
   ]
  },
  {
   "cell_type": "code",
   "execution_count": 9,
   "id": "divided-spending",
   "metadata": {},
   "outputs": [],
   "source": [
    "### Split testing and training data\n",
    "\n",
    "column_indices = {name: i for i, name in enumerate(df.columns)}\n",
    "\n",
    "n = len(df)\n",
    "train_df = df[(df['year']==2004) | (df['year']==2005) | (df['year']==2006)]\n",
    "val_df = df[df['year']==2006]\n",
    "test_df = df[df['year']==2007]\n",
    "\n",
    "train_df_1d = train_df[['Number of Patients']]\n",
    "val_df_1d = val_df[['Number of Patients']]\n",
    "test_df_1d = test_df[['Number of Patients']]\n",
    "\n",
    "num_features = train_df_1d.shape[1]"
   ]
  },
  {
   "cell_type": "code",
   "execution_count": 10,
   "id": "political-demand",
   "metadata": {},
   "outputs": [],
   "source": [
    "from tbats import TBATS, BATS"
   ]
  },
  {
   "cell_type": "code",
   "execution_count": 11,
   "id": "celtic-drain",
   "metadata": {},
   "outputs": [
    {
     "name": "stdout",
     "output_type": "stream",
     "text": [
      "Training time: 5173.4115471839905 seconds\n"
     ]
    }
   ],
   "source": [
    "# Fit the model\n",
    "estimator = TBATS(seasonal_periods=(24,24*7,365*24))\n",
    "start = time.time()\n",
    "model = estimator.fit(train_df_1d)\n",
    "end = time.time()\n",
    "print('Training time:', end-start, 'seconds')"
   ]
  },
  {
   "cell_type": "code",
   "execution_count": 18,
   "id": "lined-copper",
   "metadata": {},
   "outputs": [
    {
     "name": "stdout",
     "output_type": "stream",
     "text": [
      "Prediction time: 0.029413461685180664 seconds\n"
     ]
    }
   ],
   "source": [
    "start = time.time()\n",
    "y_forecast = model.forecast(steps=test_df_1d.shape[0])\n",
    "end = time.time()\n",
    "print('Prediction time:', end - start, 'seconds')"
   ]
  },
  {
   "cell_type": "code",
   "execution_count": 15,
   "id": "controlling-ireland",
   "metadata": {},
   "outputs": [
    {
     "data": {
      "text/plain": [
       "<matplotlib.legend.Legend at 0x7fed81138ca0>"
      ]
     },
     "execution_count": 15,
     "metadata": {},
     "output_type": "execute_result"
    },
    {
     "data": {
      "image/png": "[encoded data removed]",
      "text/plain": [
       "<Figure size 432x288 with 1 Axes>"
      ]
     },
     "metadata": {
      "needs_background": "light"
     },
     "output_type": "display_data"
    }
   ],
   "source": [
    "plt.plot(range(len(y_forecast)),y_forecast,label='TBATS')\n",
    "plt.plot(range(len(y_forecast)),np.array(test_df_1d),label='Observed')\n",
    "plt.legend()"
   ]
  },
  {
   "cell_type": "code",
   "execution_count": 16,
   "id": "scenic-hundred",
   "metadata": {},
   "outputs": [
    {
     "data": {
      "text/plain": [
       "[<matplotlib.lines.Line2D at 0x7fed80fe1430>]"
      ]
     },
     "execution_count": 16,
     "metadata": {},
     "output_type": "execute_result"
    },
    {
     "data": {
      "image/png": "[encoded data removed]",
      "text/plain": [
       "<Figure size 432x288 with 1 Axes>"
      ]
     },
     "metadata": {
      "needs_background": "light"
     },
     "output_type": "display_data"
    }
   ],
   "source": [
    "plt.plot(range(300),y_forecast[:300])"
   ]
  },
  {
   "cell_type": "code",
   "execution_count": 17,
   "id": "dramatic-cleaner",
   "metadata": {},
   "outputs": [
    {
     "data": {
      "text/plain": [
       "4.474851444481401"
      ]
     },
     "execution_count": 17,
     "metadata": {},
     "output_type": "execute_result"
    }
   ],
   "source": [
    "sum(abs(y_forecast-np.array(test_df_1d).flatten()))/len(y_forecast)"
   ]
  },
  {
   "cell_type": "code",
   "execution_count": 19,
   "id": "north-channel",
   "metadata": {},
   "outputs": [
    {
     "data": {
      "text/plain": [
       "34.04635203766171"
      ]
     },
     "execution_count": 19,
     "metadata": {},
     "output_type": "execute_result"
    }
   ],
   "source": [
    "sum(abs(y_forecast-np.array(test_df_1d).flatten())**2)/len(y_forecast)"
   ]
  },
  {
   "cell_type": "code",
   "execution_count": 57,
   "id": "developed-charger",
   "metadata": {},
   "outputs": [],
   "source": [
    "np.savetxt('TBATS.txt', y_forecast)"
   ]
  }
 ],
 "metadata": {
  "kernelspec": {
   "display_name": "Python 3 (ipykernel)",
   "language": "python",
   "name": "python3"
  },
  "language_info": {
   "codemirror_mode": {
    "name": "ipython",
    "version": 3
   },
   "file_extension": ".py",
   "mimetype": "text/x-python",
   "name": "python",
   "nbconvert_exporter": "python",
   "pygments_lexer": "ipython3",
   "version": "3.8.5"
  }
 },
 "nbformat": 4,
 "nbformat_minor": 5
}
